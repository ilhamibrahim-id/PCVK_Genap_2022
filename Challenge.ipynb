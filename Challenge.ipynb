{
  "nbformat": 4,
  "nbformat_minor": 0,
  "metadata": {
    "colab": {
      "name": "Tantangan.ipynb",
      "provenance": [],
      "collapsed_sections": [],
      "authorship_tag": "ABX9TyPjfPWEKlmj6W57W+b0g4Wj",
      "include_colab_link": true
    },
    "kernelspec": {
      "name": "python3",
      "display_name": "Python 3"
    },
    "language_info": {
      "name": "python"
    }
  },
  "cells": [
    {
      "cell_type": "markdown",
      "metadata": {
        "id": "view-in-github",
        "colab_type": "text"
      },
      "source": [
        "<a href=\"https://colab.research.google.com/github/ilhamibrahim-id/PCVK_Genap_2022/blob/main/Challenge.ipynb\" target=\"_parent\"><img src=\"https://colab.research.google.com/assets/colab-badge.svg\" alt=\"Open In Colab\"/></a>"
      ]
    },
    {
      "cell_type": "code",
      "execution_count": 1,
      "metadata": {
        "colab": {
          "base_uri": "https://localhost:8080/"
        },
        "id": "FTR5XKoP9Lqo",
        "outputId": "d6199103-b97e-4b3e-8ee2-00014a6ad2f6"
      },
      "outputs": [
        {
          "output_type": "stream",
          "name": "stdout",
          "text": [
            "Matriks A :\n",
            "[[1 2]\n",
            " [2 1]]\n",
            "Matriks B :\n",
            "[[2 2]\n",
            " [1 1]]\n",
            "Perkalian Matriks : \n",
            "[[2 4]\n",
            " [2 1]]\n"
          ]
        }
      ],
      "source": [
        "import numpy as np\n",
        "\n",
        "# PERKALIAN MATRIKS\n",
        "\n",
        "matriksA = np.array([[1,2],\n",
        "                     [2,1]])\n",
        "matriksB = np.array([[2,2],\n",
        "                     [1,1]])   \n",
        "\n",
        "perkalian_biasa = matriksA*matriksB\n",
        "\n",
        "print(\"Matriks A :\")\n",
        "print(matriksA)\n",
        "\n",
        "print(\"Matriks B :\")\n",
        "print(matriksB)\n",
        "\n",
        "print(\"Perkalian Matriks : \")\n",
        "print(perkalian_biasa)"
      ]
    },
    {
      "cell_type": "code",
      "source": [
        "import numpy as np\n",
        "\n",
        "# PERKALIAN MATRIKS SKALAR\n",
        "\n",
        "matriksA = np.array([[1,2],\n",
        "                     [2,1]])\n",
        "k = 2\n",
        "perkalian_biasa = matriksA*k\n",
        "\n",
        "print(\"Matriks A :\")\n",
        "print(matriksA)\n",
        "\n",
        "print(\"k :\" , k)\n",
        "\n",
        "print(\"Perkalian Matriks : \")\n",
        "print(perkalian_biasa)\n"
      ],
      "metadata": {
        "colab": {
          "base_uri": "https://localhost:8080/"
        },
        "id": "lUSWreRh9tNx",
        "outputId": "3edfc268-755c-48d9-f7c0-c35e754f88f1"
      },
      "execution_count": 2,
      "outputs": [
        {
          "output_type": "stream",
          "name": "stdout",
          "text": [
            "Matriks A :\n",
            "[[1 2]\n",
            " [2 1]]\n",
            "k : 2\n",
            "Perkalian Matriks : \n",
            "[[2 4]\n",
            " [4 2]]\n"
          ]
        }
      ]
    },
    {
      "cell_type": "code",
      "source": [
        "from google.colab import drive\n",
        "\n",
        "drive.mount('/content/drive')"
      ],
      "metadata": {
        "colab": {
          "base_uri": "https://localhost:8080/"
        },
        "id": "S0VFlLXcAnbS",
        "outputId": "32af1cfa-691f-45c8-cd65-aa7b30389422"
      },
      "execution_count": 4,
      "outputs": [
        {
          "output_type": "stream",
          "name": "stdout",
          "text": [
            "Mounted at /content/drive\n"
          ]
        }
      ]
    },
    {
      "cell_type": "code",
      "source": [
        "import matplotlib.image as image\n",
        "import numpy as np\n",
        "img=image.imread('/content/drive/MyDrive/Noise/galaxy.jpg')\n",
        "print(\"Matriks : \")\n",
        "print(img)"
      ],
      "metadata": {
        "colab": {
          "base_uri": "https://localhost:8080/"
        },
        "id": "Dxi9tU4gBOd3",
        "outputId": "4badbaaa-f145-4c16-a7a1-138302a8dc35"
      },
      "execution_count": 5,
      "outputs": [
        {
          "output_type": "stream",
          "name": "stdout",
          "text": [
            "Matriks : \n",
            "[[[1 0 8]\n",
            "  [1 0 8]\n",
            "  [1 0 8]\n",
            "  ...\n",
            "  [1 0 5]\n",
            "  [1 0 5]\n",
            "  [1 0 5]]\n",
            "\n",
            " [[1 0 8]\n",
            "  [1 0 8]\n",
            "  [1 0 8]\n",
            "  ...\n",
            "  [1 0 5]\n",
            "  [1 0 5]\n",
            "  [1 0 5]]\n",
            "\n",
            " [[1 0 8]\n",
            "  [1 0 8]\n",
            "  [1 0 8]\n",
            "  ...\n",
            "  [1 0 5]\n",
            "  [1 0 5]\n",
            "  [1 0 5]]\n",
            "\n",
            " ...\n",
            "\n",
            " [[1 0 5]\n",
            "  [1 0 5]\n",
            "  [1 0 5]\n",
            "  ...\n",
            "  [1 0 5]\n",
            "  [1 0 5]\n",
            "  [1 0 5]]\n",
            "\n",
            " [[1 0 5]\n",
            "  [1 0 5]\n",
            "  [1 0 5]\n",
            "  ...\n",
            "  [1 0 5]\n",
            "  [1 0 5]\n",
            "  [1 0 5]]\n",
            "\n",
            " [[1 0 5]\n",
            "  [1 0 5]\n",
            "  [1 0 5]\n",
            "  ...\n",
            "  [1 0 5]\n",
            "  [1 0 5]\n",
            "  [1 0 5]]]\n"
          ]
        }
      ]
    }
  ]
}